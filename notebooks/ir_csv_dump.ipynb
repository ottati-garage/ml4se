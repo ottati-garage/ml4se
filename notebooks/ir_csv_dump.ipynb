{
 "cells": [
  {
   "cell_type": "code",
   "execution_count": 6,
   "metadata": {
    "collapsed": false
   },
   "outputs": [
    {
     "name": "stderr",
     "output_type": "stream",
     "text": [
      "/opt/conda/lib/python3.5/site-packages/matplotlib/font_manager.py:273: UserWarning: Matplotlib is building the font cache using fc-list. This may take a moment.\n",
      "  warnings.warn('Matplotlib is building the font cache using fc-list. This may take a moment.')\n",
      "/opt/conda/lib/python3.5/site-packages/matplotlib/font_manager.py:273: UserWarning: Matplotlib is building the font cache using fc-list. This may take a moment.\n",
      "  warnings.warn('Matplotlib is building the font cache using fc-list. This may take a moment.')\n"
     ]
    }
   ],
   "source": [
    "%matplotlib inline\n",
    "\n",
    "import MeCab\n",
    "import numpy as np\n",
    "from sklearn.feature_extraction.text import TfidfVectorizer"
   ]
  },
  {
   "cell_type": "code",
   "execution_count": 10,
   "metadata": {
    "collapsed": true
   },
   "outputs": [],
   "source": [
    "def tokenize(text):\n",
    "    \"\"\" MeCab で分かち書きした結果をトークンとして返す \"\"\"\n",
    "    wakati = MeCab.Tagger(\"-O wakati\")\n",
    "    return wakati.parse(text).split(' ')"
   ]
  },
  {
   "cell_type": "code",
   "execution_count": 1,
   "metadata": {
    "collapsed": true
   },
   "outputs": [],
   "source": [
    "from pymongo import MongoClient\n",
    "import keys\n",
    "\n",
    "mongo = MongoClient(keys.MONGO_URL_MINING)\n",
    "db = mongo['stock_mining']\n",
    "collection = db['datahalf']\n",
    "cur = collection.find({})\n",
    "orig_data = [row for row in cur]"
   ]
  },
  {
   "cell_type": "code",
   "execution_count": 26,
   "metadata": {
    "collapsed": false
   },
   "outputs": [],
   "source": [
    "data = orig_data[:1000]"
   ]
  },
  {
   "cell_type": "code",
   "execution_count": 27,
   "metadata": {
    "collapsed": true
   },
   "outputs": [],
   "source": [
    "def get_label(price):\n",
    "    if price <= 0:\n",
    "        return -1\n",
    "    return 1"
   ]
  },
  {
   "cell_type": "code",
   "execution_count": 28,
   "metadata": {
    "collapsed": false
   },
   "outputs": [],
   "source": [
    "ir_list = [d['news']['content'] for d in data]\n",
    "target = [get_label(d['price_data']['percent']) for d in data]\n",
    "target = np.array(target)"
   ]
  },
  {
   "cell_type": "code",
   "execution_count": 30,
   "metadata": {
    "collapsed": false
   },
   "outputs": [
    {
     "name": "stdout",
     "output_type": "stream",
     "text": [
      "(1000, 1936)\n"
     ]
    }
   ],
   "source": [
    "vec = TfidfVectorizer(tokenizer=tokenize, stop_words='english', min_df=1)\n",
    "tfs = vec.fit_transform(ir_list)\n",
    "tfs_list = tfs.toarray()\n",
    "print(tfs_list.shape)"
   ]
  },
  {
   "cell_type": "code",
   "execution_count": 35,
   "metadata": {
    "collapsed": true
   },
   "outputs": [],
   "source": [
    "# write into a csv\n",
    "import csv\n",
    "with open('ir_vectors.txt', 'w') as f:\n",
    "    writer = csv.writer(f, delimiter=',')\n",
    "    for row in tfs_list:\n",
    "        writer.writerow(row)\n",
    "with open('ir_vectors_labels.txt', 'w') as f:\n",
    "    writer = csv.writer(f, delimiter=',')\n",
    "    for row in target:\n",
    "        writer.writerow([row])"
   ]
  }
 ],
 "metadata": {
  "kernelspec": {
   "display_name": "Python 3",
   "language": "python",
   "name": "python3"
  },
  "language_info": {
   "codemirror_mode": {
    "name": "ipython",
    "version": 3
   },
   "file_extension": ".py",
   "mimetype": "text/x-python",
   "name": "python",
   "nbconvert_exporter": "python",
   "pygments_lexer": "ipython3",
   "version": "3.5.1"
  },
  "widgets": {
   "state": {},
   "version": "1.1.2"
  }
 },
 "nbformat": 4,
 "nbformat_minor": 0
}
